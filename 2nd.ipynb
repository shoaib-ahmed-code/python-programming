{
 "cells": [
  {
   "cell_type": "code",
   "execution_count": 1,
   "id": "06012ac6",
   "metadata": {},
   "outputs": [
    {
     "name": "stdout",
     "output_type": "stream",
     "text": [
      "greeting: hello python! <class 'str'>\n",
      "quote: this is me single line string ! <class 'str'>\n",
      "multi: and this is me \n",
      "multiline string <class 'str'>\n"
     ]
    }
   ],
   "source": [
    "greeting=\"hello python!\"\n",
    "quote=\"this is me single line string !\"\n",
    "multi=\"\"\"and this is me \n",
    "multiline string\"\"\"\n",
    "print(\"greeting:\", greeting ,type(greeting))\n",
    "print(\"quote:\", quote  ,type(quote))\n",
    "print(\"multi:\", multi ,type(multi))"
   ]
  }
 ],
 "metadata": {
  "kernelspec": {
   "display_name": "awfera",
   "language": "python",
   "name": "python3"
  },
  "language_info": {
   "codemirror_mode": {
    "name": "ipython",
    "version": 3
   },
   "file_extension": ".py",
   "mimetype": "text/x-python",
   "name": "python",
   "nbconvert_exporter": "python",
   "pygments_lexer": "ipython3",
   "version": "3.10.18"
  }
 },
 "nbformat": 4,
 "nbformat_minor": 5
}
