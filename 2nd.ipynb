{
 "cells": [
  {
   "cell_type": "code",
   "execution_count": null,
   "id": "eeaa2dfe",
   "metadata": {},
   "outputs": [],
   "source": []
  },
  {
   "cell_type": "code",
   "execution_count": null,
   "id": "c2e6f6c4",
   "metadata": {},
   "outputs": [],
   "source": [
    "a,b=12,13\n",
    "print(\"addition:\",a+b)\n",
    "print(\"subtraction:\",a-b)\n",
    "print(\"multiplication:\",a*b)\n",
    "print(\"division:\",a/b)\n",
    "print(\"modulus:\",a%b)\n",
    "print(\"floor division:\",a//b)\n",
    "print(\"exponentiation:\",a**b)"
   ]
  }
 ],
 "metadata": {
  "kernelspec": {
   "display_name": "awfera",
   "language": "python",
   "name": "python3"
  },
  "language_info": {
   "codemirror_mode": {
    "name": "ipython",
    "version": 3
   },
   "file_extension": ".py",
   "mimetype": "text/x-python",
   "name": "python",
   "nbconvert_exporter": "python",
   "pygments_lexer": "ipython3",
   "version": "3.10.18"
  }
 },
 "nbformat": 4,
 "nbformat_minor": 5
}
